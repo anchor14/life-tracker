{
 "cells": [
  {
   "cell_type": "markdown",
   "metadata": {},
   "source": [
    "# Overview of how my time is spent"
   ]
  },
  {
   "cell_type": "code",
   "execution_count": 1,
   "metadata": {},
   "outputs": [],
   "source": [
    "import pandas as pd\n",
    "import numpy as np\n",
    "import matplotlib.pyplot as plt\n",
    "import seaborn as sns\n",
    "import gspread"
   ]
  },
  {
   "cell_type": "markdown",
   "metadata": {},
   "source": [
    "Import csv file from Google sheets and drop rows before today"
   ]
  },
  {
   "cell_type": "code",
   "execution_count": 7,
   "metadata": {},
   "outputs": [],
   "source": [
    "trackData = pd.read_csv(\"https://docs.google.com/spreadsheets/d/e/2PACX-1vTzosEj_RfJEZgoC6h7AinJc0znDN5eIRzg9bADDJs9jS8Z84WLLhmjG_TPTozRjpX_M_nzEIfEnyfL/pub?gid=1401161070&single=true&output=csv\",index_col=0)"
   ]
  },
  {
   "cell_type": "code",
   "execution_count": 10,
   "metadata": {},
   "outputs": [],
   "source": [
    "trackData = trackData[trackData['dayBegin'].notna()]"
   ]
  },
  {
   "cell_type": "code",
   "execution_count": 11,
   "metadata": {
    "scrolled": true
   },
   "outputs": [
    {
     "data": {
      "text/html": [
       "<div>\n",
       "<style scoped>\n",
       "    .dataframe tbody tr th:only-of-type {\n",
       "        vertical-align: middle;\n",
       "    }\n",
       "\n",
       "    .dataframe tbody tr th {\n",
       "        vertical-align: top;\n",
       "    }\n",
       "\n",
       "    .dataframe thead th {\n",
       "        text-align: right;\n",
       "    }\n",
       "</style>\n",
       "<table border=\"1\" class=\"dataframe\">\n",
       "  <thead>\n",
       "    <tr style=\"text-align: right;\">\n",
       "      <th></th>\n",
       "      <th>dayBegin</th>\n",
       "      <th>dayEnd</th>\n",
       "      <th>hoursLived</th>\n",
       "      <th>sustainHours</th>\n",
       "      <th>armyHours</th>\n",
       "      <th>workHours</th>\n",
       "      <th>chillHours</th>\n",
       "      <th>workoutHours</th>\n",
       "      <th>otherHours</th>\n",
       "      <th>unknownHours</th>\n",
       "      <th>...</th>\n",
       "      <th>bodyWeight</th>\n",
       "      <th>weightDifference</th>\n",
       "      <th>happinessScore</th>\n",
       "      <th>mo</th>\n",
       "      <th>chillType</th>\n",
       "      <th>chillHoursByType</th>\n",
       "      <th>bookTitleTwo</th>\n",
       "      <th>pagesReadTwo</th>\n",
       "      <th>prevPageTwo</th>\n",
       "      <th>currPageTwo</th>\n",
       "    </tr>\n",
       "  </thead>\n",
       "  <tbody>\n",
       "    <tr>\n",
       "      <th>2020.10.12</th>\n",
       "      <td>6.5</td>\n",
       "      <td>22.75</td>\n",
       "      <td>16.25</td>\n",
       "      <td>3.0</td>\n",
       "      <td>4.5</td>\n",
       "      <td>2.50</td>\n",
       "      <td>3.0</td>\n",
       "      <td>1.00</td>\n",
       "      <td>1.0</td>\n",
       "      <td>1.25</td>\n",
       "      <td>...</td>\n",
       "      <td>63.1</td>\n",
       "      <td>0.1</td>\n",
       "      <td>6.0</td>\n",
       "      <td>0.0</td>\n",
       "      <td>skype,chat</td>\n",
       "      <td>0.5,1</td>\n",
       "      <td>a little life</td>\n",
       "      <td>9.0</td>\n",
       "      <td>624.0</td>\n",
       "      <td>633.0</td>\n",
       "    </tr>\n",
       "    <tr>\n",
       "      <th>2020.10.13</th>\n",
       "      <td>6.5</td>\n",
       "      <td>22.75</td>\n",
       "      <td>16.25</td>\n",
       "      <td>3.5</td>\n",
       "      <td>5.0</td>\n",
       "      <td>4.25</td>\n",
       "      <td>2.0</td>\n",
       "      <td>1.50</td>\n",
       "      <td>NaN</td>\n",
       "      <td>0.00</td>\n",
       "      <td>...</td>\n",
       "      <td>63.8</td>\n",
       "      <td>0.7</td>\n",
       "      <td>6.5</td>\n",
       "      <td>0.0</td>\n",
       "      <td>hangout,survivo</td>\n",
       "      <td>1.5,0.5</td>\n",
       "      <td>a little life</td>\n",
       "      <td>12.0</td>\n",
       "      <td>633.0</td>\n",
       "      <td>645.0</td>\n",
       "    </tr>\n",
       "    <tr>\n",
       "      <th>2020.10.14</th>\n",
       "      <td>6.5</td>\n",
       "      <td>23.00</td>\n",
       "      <td>16.50</td>\n",
       "      <td>3.5</td>\n",
       "      <td>5.0</td>\n",
       "      <td>1.00</td>\n",
       "      <td>4.0</td>\n",
       "      <td>2.00</td>\n",
       "      <td>0.5</td>\n",
       "      <td>0.50</td>\n",
       "      <td>...</td>\n",
       "      <td>63.3</td>\n",
       "      <td>-0.5</td>\n",
       "      <td>7.5</td>\n",
       "      <td>1.5</td>\n",
       "      <td>Youtube,survivo</td>\n",
       "      <td>2,1.5</td>\n",
       "      <td>a little life</td>\n",
       "      <td>0.0</td>\n",
       "      <td>645.0</td>\n",
       "      <td>645.0</td>\n",
       "    </tr>\n",
       "    <tr>\n",
       "      <th>2020.10.15</th>\n",
       "      <td>6.5</td>\n",
       "      <td>22.50</td>\n",
       "      <td>16.00</td>\n",
       "      <td>3.5</td>\n",
       "      <td>5.0</td>\n",
       "      <td>4.25</td>\n",
       "      <td>1.0</td>\n",
       "      <td>1.25</td>\n",
       "      <td>0.5</td>\n",
       "      <td>0.50</td>\n",
       "      <td>...</td>\n",
       "      <td>64.0</td>\n",
       "      <td>0.7</td>\n",
       "      <td>7.5</td>\n",
       "      <td>1.0</td>\n",
       "      <td>guitar,youtube,survivo</td>\n",
       "      <td>0.5,0.25,0.25</td>\n",
       "      <td>a little life</td>\n",
       "      <td>17.0</td>\n",
       "      <td>645.0</td>\n",
       "      <td>662.0</td>\n",
       "    </tr>\n",
       "    <tr>\n",
       "      <th>2020.10.16</th>\n",
       "      <td>6.5</td>\n",
       "      <td>23.00</td>\n",
       "      <td>16.50</td>\n",
       "      <td>3.5</td>\n",
       "      <td>7.0</td>\n",
       "      <td>2.00</td>\n",
       "      <td>2.0</td>\n",
       "      <td>1.50</td>\n",
       "      <td>0.0</td>\n",
       "      <td>0.50</td>\n",
       "      <td>...</td>\n",
       "      <td>63.1</td>\n",
       "      <td>-0.9</td>\n",
       "      <td>7.0</td>\n",
       "      <td>0.0</td>\n",
       "      <td>Youtube,survivo</td>\n",
       "      <td>1,1</td>\n",
       "      <td>a little life</td>\n",
       "      <td>0.0</td>\n",
       "      <td>662.0</td>\n",
       "      <td>662.0</td>\n",
       "    </tr>\n",
       "  </tbody>\n",
       "</table>\n",
       "<p>5 rows × 34 columns</p>\n",
       "</div>"
      ],
      "text/plain": [
       "            dayBegin  dayEnd  hoursLived  sustainHours  armyHours  workHours  \\\n",
       "2020.10.12       6.5   22.75       16.25           3.0        4.5       2.50   \n",
       "2020.10.13       6.5   22.75       16.25           3.5        5.0       4.25   \n",
       "2020.10.14       6.5   23.00       16.50           3.5        5.0       1.00   \n",
       "2020.10.15       6.5   22.50       16.00           3.5        5.0       4.25   \n",
       "2020.10.16       6.5   23.00       16.50           3.5        7.0       2.00   \n",
       "\n",
       "            chillHours  workoutHours  otherHours  unknownHours  ...  \\\n",
       "2020.10.12         3.0          1.00         1.0          1.25  ...   \n",
       "2020.10.13         2.0          1.50         NaN          0.00  ...   \n",
       "2020.10.14         4.0          2.00         0.5          0.50  ...   \n",
       "2020.10.15         1.0          1.25         0.5          0.50  ...   \n",
       "2020.10.16         2.0          1.50         0.0          0.50  ...   \n",
       "\n",
       "           bodyWeight  weightDifference happinessScore   mo  \\\n",
       "2020.10.12       63.1               0.1            6.0  0.0   \n",
       "2020.10.13       63.8               0.7            6.5  0.0   \n",
       "2020.10.14       63.3              -0.5            7.5  1.5   \n",
       "2020.10.15       64.0               0.7            7.5  1.0   \n",
       "2020.10.16       63.1              -0.9            7.0  0.0   \n",
       "\n",
       "                         chillType  chillHoursByType   bookTitleTwo  \\\n",
       "2020.10.12              skype,chat             0.5,1  a little life   \n",
       "2020.10.13         hangout,survivo           1.5,0.5  a little life   \n",
       "2020.10.14         Youtube,survivo             2,1.5  a little life   \n",
       "2020.10.15  guitar,youtube,survivo     0.5,0.25,0.25  a little life   \n",
       "2020.10.16         Youtube,survivo               1,1  a little life   \n",
       "\n",
       "            pagesReadTwo prevPageTwo  currPageTwo  \n",
       "2020.10.12           9.0       624.0        633.0  \n",
       "2020.10.13          12.0       633.0        645.0  \n",
       "2020.10.14           0.0       645.0        645.0  \n",
       "2020.10.15          17.0       645.0        662.0  \n",
       "2020.10.16           0.0       662.0        662.0  \n",
       "\n",
       "[5 rows x 34 columns]"
      ]
     },
     "execution_count": 11,
     "metadata": {},
     "output_type": "execute_result"
    }
   ],
   "source": [
    "trackData.head()"
   ]
  },
  {
   "cell_type": "markdown",
   "metadata": {},
   "source": [
    "### Store average statistics of some columns to variables"
   ]
  },
  {
   "cell_type": "code",
   "execution_count": 12,
   "metadata": {
    "scrolled": true
   },
   "outputs": [
    {
     "name": "stdout",
     "output_type": "stream",
     "text": [
      "Average number of life lived in the past 35 days is: 16.007142857142856\n"
     ]
    }
   ],
   "source": [
    "print('Average number of life lived in the past',len(overview.index),'days is:',overview['Number of hours lived'].mean())"
   ]
  },
  {
   "cell_type": "markdown",
   "metadata": {},
   "source": [
    "### Calculate average of some metrics that give a nutshell view"
   ]
  },
  {
   "cell_type": "code",
   "execution_count": 12,
   "metadata": {},
   "outputs": [],
   "source": [
    "avgHoursLived = trackData['hoursLived'].mean()\n",
    "avgHoursArmy = trackData['armyHours'].mean()\n",
    "avgHoursWorking = trackData['workHours'].mean()"
   ]
  },
  {
   "cell_type": "code",
   "execution_count": 14,
   "metadata": {
    "scrolled": true
   },
   "outputs": [
    {
     "name": "stdout",
     "output_type": "stream",
     "text": [
      "Recent 41 days in a nutshell:\n",
      "Average number of hours lived in a day: 16.007142857142856\n",
      "Average number of hours spent for army: 5.014285714285714\n",
      "Average number of hours spent for work: 3.2142857142857144\n"
     ]
    }
   ],
   "source": [
    "print(\"Recent\",len(overview.index),'days in a nutshell:')\n",
    "print('Average number of hours lived in a day:',avgHoursLived)\n",
    "print('Average number of hours spent for army:',avgHoursArmy)\n",
    "print('Average number of hours spent for work:',avgHoursWorking)"
   ]
  },
  {
   "cell_type": "code",
   "execution_count": 16,
   "metadata": {},
   "outputs": [],
   "source": [
    "avgEfficiencyScore = trackData['efficiencyScore'].mean()\n",
    "avgHappinessScore = trackData['happinessScore'].mean()"
   ]
  },
  {
   "cell_type": "code",
   "execution_count": 17,
   "metadata": {},
   "outputs": [
    {
     "name": "stdout",
     "output_type": "stream",
     "text": [
      "Average efficiency score is: 6.642857142857143\n",
      "Average happiness score is: 7.071428571428571\n"
     ]
    }
   ],
   "source": [
    "print('Average efficiency score is:',avgEfficiencyScore)\n",
    "print('Average happiness score is:',avgHappinessScore)"
   ]
  },
  {
   "cell_type": "code",
   "execution_count": 26,
   "metadata": {},
   "outputs": [],
   "source": [
    "countWorkout = trackData.loc[trackData.workout == True, 'workout'].count()\n",
    "countMeditation = trackData.loc[trackData.meditation == True, 'meditation'].count()"
   ]
  },
  {
   "cell_type": "code",
   "execution_count": null,
   "metadata": {},
   "outputs": [],
   "source": [
    "print('Number of workouts:', countWorkout')\n",
    "print('Number of meditations:',countMeditation)"
   ]
  }
 ],
 "metadata": {
  "kernelspec": {
   "display_name": "Python 3",
   "language": "python",
   "name": "python3"
  },
  "language_info": {
   "codemirror_mode": {
    "name": "ipython",
    "version": 3
   },
   "file_extension": ".py",
   "mimetype": "text/x-python",
   "name": "python",
   "nbconvert_exporter": "python",
   "pygments_lexer": "ipython3",
   "version": "3.8.3"
  }
 },
 "nbformat": 4,
 "nbformat_minor": 4
}
